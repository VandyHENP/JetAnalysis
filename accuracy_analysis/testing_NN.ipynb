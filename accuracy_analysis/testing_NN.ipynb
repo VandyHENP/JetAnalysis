{
 "cells": [
  {
   "cell_type": "code",
   "execution_count": 308,
   "id": "d94cf40f-90df-429e-8711-32ef96edd6a5",
   "metadata": {},
   "outputs": [],
   "source": [
    "import torch\n",
    "import pandas as pd\n",
    "\n",
    "\n",
    "import numpy as np\n",
    "import matplotlib.pyplot as plt\n",
    "\n",
    "from sklearn.preprocessing import StandardScaler\n",
    "from sklearn.model_selection import train_test_split\n",
    "from torch.utils.data import Dataset, DataLoader\n",
    "from torch import nn\n",
    "from torch.nn import functional as F\n",
    "from tqdm import tqdm\n",
    "import torchvision.models as models\n",
    "from scipy.stats import wasserstein_distance\n"
   ]
  },
  {
   "cell_type": "code",
   "execution_count": 309,
   "id": "f7d1617c-67d2-4ac3-925c-43fbee388297",
   "metadata": {},
   "outputs": [],
   "source": [
    "hadron_level_data = pd.read_csv(\"hadron_level_events.csv\")\n",
    "parton_level_data = pd.read_csv(\"parton_level_events.csv\")"
   ]
  },
  {
   "cell_type": "code",
   "execution_count": 310,
   "id": "5358988c-e127-41a6-b5c7-f42ad2e2620a",
   "metadata": {},
   "outputs": [],
   "source": [
    "hadron_level_data = hadron_level_data.drop(columns=[\"Unnamed: 91\"]).dropna()\n",
    "parton_level_data = parton_level_data.drop(columns=[\"Unnamed: 61\"]).dropna()"
   ]
  },
  {
   "cell_type": "code",
   "execution_count": 311,
   "id": "2ca5747b-e3e5-45c4-b72c-ae08781a3c3f",
   "metadata": {},
   "outputs": [
    {
     "data": {
      "text/plain": [
       "(8649, 61)"
      ]
     },
     "execution_count": 311,
     "metadata": {},
     "output_type": "execute_result"
    }
   ],
   "source": [
    "parton_level_data.shape"
   ]
  },
  {
   "cell_type": "code",
   "execution_count": 312,
   "id": "34830c0c-cd48-4255-96e0-6c80b1180847",
   "metadata": {},
   "outputs": [],
   "source": [
    "x = hadron_level_data.values\n",
    "y = parton_level_data.values"
   ]
  },
  {
   "cell_type": "code",
   "execution_count": 313,
   "id": "b3ee3a04-d428-4e35-b1e6-4425dd553bfa",
   "metadata": {},
   "outputs": [
    {
     "data": {
      "text/plain": [
       "(8649, 91)"
      ]
     },
     "execution_count": 313,
     "metadata": {},
     "output_type": "execute_result"
    }
   ],
   "source": [
    "x.shape"
   ]
  },
  {
   "cell_type": "code",
   "execution_count": 314,
   "id": "d3ecb0fa-15d0-4ba1-ba70-188fbf8185bf",
   "metadata": {},
   "outputs": [
    {
     "data": {
      "text/plain": [
       "(91,)"
      ]
     },
     "execution_count": 314,
     "metadata": {},
     "output_type": "execute_result"
    }
   ],
   "source": [
    "scx = StandardScaler()\n",
    "x = scx.fit_transform(x)"
   ]
  },
  {
   "cell_type": "code",
   "execution_count": 315,
   "id": "a695e97d-25a4-4ee8-b9ab-69738287242d",
   "metadata": {},
   "outputs": [
    {
     "data": {
      "text/plain": [
       "(8649, 61)"
      ]
     },
     "execution_count": 315,
     "metadata": {},
     "output_type": "execute_result"
    }
   ],
   "source": [
    "scy = StandardScaler()\n",
    "y = scy.fit_transform(y)"
   ]
  },
  {
   "cell_type": "code",
   "execution_count": 316,
   "id": "753e4ea4-4c31-4926-aec4-f92e8efb3b21",
   "metadata": {},
   "outputs": [],
   "source": [
    "device = \"cuda\" if torch.cuda.is_available() else \"cpu\""
   ]
  },
  {
   "cell_type": "code",
   "execution_count": 317,
   "id": "2548fdb3-eaa2-425e-bf26-c8d15eca153e",
   "metadata": {},
   "outputs": [],
   "source": [
    "class dataset(Dataset):\n",
    "    def __init__(self, x, y):\n",
    "        self.x = torch.tensor(x, dtype=torch.float32)\n",
    "        self.y = torch.tensor(y, dtype=torch.float32)\n",
    "        self.length = self.x.shape[0]\n",
    "\n",
    "    def __getitem__(self, idx):\n",
    "        return self.x[idx], self.y[idx]\n",
    "\n",
    "    def __len__(self):\n",
    "        return self.length"
   ]
  },
  {
   "cell_type": "code",
   "execution_count": 318,
   "id": "f62bae11-3161-4b35-bfe1-5f3ee28953d5",
   "metadata": {},
   "outputs": [],
   "source": [
    "class Net(nn.Module):\n",
    "    def __init__(self, input_shape):\n",
    "        super(Net,self).__init__()\n",
    "        self.fc1 = nn.Linear(input_shape, 64)\n",
    "        self.fc2 = nn.Linear(64, 128)\n",
    "        self.fc3 = nn.Linear(128, 256)\n",
    "        self.fc4 = nn.Linear(256, 128)\n",
    "        self.fc5 = nn.Linear(128, 61)\n",
    "\n",
    "    def forward(self,x):\n",
    "        x = self.fc1(x).relu()\n",
    "        x = self.fc2(x).relu()\n",
    "        x = self.fc3(x).relu()\n",
    "        x = self.fc4(x).relu()\n",
    "        x = self.fc5(x)\n",
    "        return x"
   ]
  },
  {
   "cell_type": "code",
   "execution_count": 319,
   "id": "e563c967-b195-4b59-bbaf-e59efc190d19",
   "metadata": {},
   "outputs": [],
   "source": [
    "X_train, X_test, Y_train, Y_test = train_test_split(x, y, test_size=0.99, random_state=21, shuffle=False)"
   ]
  },
  {
   "cell_type": "code",
   "execution_count": 320,
   "id": "8fa1123d-e4b4-4e88-8d5d-b83e11f3111b",
   "metadata": {},
   "outputs": [],
   "source": [
    "# X_train = X_train.astype('float32')\n",
    "X_test = X_test.astype('float32')\n",
    "# Y_train = Y_train.astype('float32')\n",
    "Y_test = Y_test.astype('float32')"
   ]
  },
  {
   "cell_type": "code",
   "execution_count": 321,
   "id": "785847e7-5b03-46bf-acfe-2e6b06f08369",
   "metadata": {},
   "outputs": [],
   "source": [
    "# X_train = torch.from_numpy(X_train).to(device)\n",
    "X_test = torch.from_numpy(X_test).to(device)\n",
    "# Y_train = torch.from_numpy(Y_train).to(device)\n",
    "Y_test = torch.from_numpy(Y_test).to(device)"
   ]
  },
  {
   "cell_type": "code",
   "execution_count": 322,
   "id": "9e249ce3-a1ec-47e8-a42c-64f87c5c4968",
   "metadata": {},
   "outputs": [
    {
     "name": "stderr",
     "output_type": "stream",
     "text": [
      "/var/folders/9k/5mfcgwhd61z19vw5lpk_0kw80000gn/T/ipykernel_30418/3780249379.py:3: UserWarning: To copy construct from a tensor, it is recommended to use sourceTensor.clone().detach() or sourceTensor.clone().detach().requires_grad_(True), rather than torch.tensor(sourceTensor).\n",
      "  self.x = torch.tensor(x, dtype=torch.float32)\n",
      "/var/folders/9k/5mfcgwhd61z19vw5lpk_0kw80000gn/T/ipykernel_30418/3780249379.py:4: UserWarning: To copy construct from a tensor, it is recommended to use sourceTensor.clone().detach() or sourceTensor.clone().detach().requires_grad_(True), rather than torch.tensor(sourceTensor).\n",
      "  self.y = torch.tensor(y, dtype=torch.float32)\n"
     ]
    }
   ],
   "source": [
    "test_set = dataset(X_test, Y_test)"
   ]
  },
  {
   "cell_type": "code",
   "execution_count": 324,
   "id": "714ccbad-f63e-46a1-b562-159a368137d7",
   "metadata": {},
   "outputs": [
    {
     "name": "stderr",
     "output_type": "stream",
     "text": [
      "/var/folders/9k/5mfcgwhd61z19vw5lpk_0kw80000gn/T/ipykernel_30418/3625934217.py:2: FutureWarning: You are using `torch.load` with `weights_only=False` (the current default value), which uses the default pickle module implicitly. It is possible to construct malicious pickle data which will execute arbitrary code during unpickling (See https://github.com/pytorch/pytorch/blob/main/SECURITY.md#untrusted-models for more details). In a future release, the default value for `weights_only` will be flipped to `True`. This limits the functions that could be executed during unpickling. Arbitrary objects will no longer be allowed to be loaded via this mode unless they are explicitly allowlisted by the user via `torch.serialization.add_safe_globals`. We recommend you start setting `weights_only=True` for any use case where you don't have full control of the loaded file. Please open an issue on GitHub for any issues related to this experimental feature.\n",
      "  model.load_state_dict(torch.load('model.pth', map_location=torch.device('cpu')))\n"
     ]
    },
    {
     "data": {
      "text/plain": [
       "<All keys matched successfully>"
      ]
     },
     "execution_count": 324,
     "metadata": {},
     "output_type": "execute_result"
    }
   ],
   "source": [
    "model = Net(input_shape=x.shape[1])\n",
    "model.load_state_dict(torch.load('model.pth', map_location=torch.device('cpu')))\n"
   ]
  },
  {
   "cell_type": "code",
   "execution_count": 333,
   "id": "e12bef2b-e52e-4f4c-9b86-36eaaa2128f2",
   "metadata": {},
   "outputs": [],
   "source": [
    "predicted = model(X_test)\n",
    "predicted = scy.inverse_transform(predicted.detach().cpu().numpy())"
   ]
  },
  {
   "cell_type": "code",
   "execution_count": 334,
   "id": "ba4ffb68-d0e7-41e6-acc1-d3285218bbec",
   "metadata": {},
   "outputs": [],
   "source": [
    "actual = scy.inverse_transform(Y_test.cpu().numpy())"
   ]
  },
  {
   "cell_type": "code",
   "execution_count": 330,
   "id": "75ed60b9-b696-4999-b29f-8be627f9edee",
   "metadata": {
    "scrolled": true
   },
   "outputs": [
    {
     "data": {
      "text/plain": [
       "(60,)"
      ]
     },
     "execution_count": 330,
     "metadata": {},
     "output_type": "execute_result"
    }
   ],
   "source": [
    "predicted = predicted[0][1:]#.reshape(20,3)\n",
    "predicted.shape"
   ]
  },
  {
   "cell_type": "code",
   "execution_count": 331,
   "id": "a41022dd-9a68-40b5-ae09-c69863b38556",
   "metadata": {
    "scrolled": true
   },
   "outputs": [],
   "source": [
    "actual = actual[0][1:].reshape(20,3)"
   ]
  },
  {
   "cell_type": "code",
   "execution_count": 332,
   "id": "2d9f9e35-e0c4-4f56-946e-72d8d875fefc",
   "metadata": {
    "scrolled": true
   },
   "outputs": [
    {
     "data": {
      "text/plain": [
       "(3,)"
      ]
     },
     "execution_count": 332,
     "metadata": {},
     "output_type": "execute_result"
    }
   ],
   "source": [
    "actual.shape\n",
    "acutal[0].shape"
   ]
  },
  {
   "cell_type": "code",
   "execution_count": 266,
   "id": "a34cf02f-c06b-4942-a0b1-937e59019aa7",
   "metadata": {
    "scrolled": true
   },
   "outputs": [
    {
     "name": "stdout",
     "output_type": "stream",
     "text": [
      "[[ 1.0702400e+03 -7.3032908e-02  2.5971298e+00]\n",
      " [ 1.3230203e+00 -7.4330002e-01  2.5846000e+00]\n",
      " [ 3.8378203e+00 -5.5901402e-01  2.4090600e+00]\n",
      " [ 1.3745898e+00  3.4882399e-01  2.6781299e+00]\n",
      " [ 3.6005858e-07 -5.3891679e-11  1.1386213e-09]\n",
      " [ 2.8686350e-07 -1.2742002e-10 -5.3570953e-10]\n",
      " [ 1.5708395e-08 -2.1051949e-10  2.2917593e-11]\n",
      " [ 3.6678660e-08 -1.3598924e-11 -4.5976200e-12]\n",
      " [ 4.9224251e-08  2.3911040e-11  4.9870491e-10]\n",
      " [ 3.6454575e-09 -2.5246456e-11  5.9759741e-12]\n",
      " [-4.8031392e-09  7.7427793e-11  6.6660080e-11]\n",
      " [ 1.1996639e-08  8.2607685e-11  2.0929888e-11]\n",
      " [ 3.8353276e-09  7.2147940e-11 -7.0367170e-11]\n",
      " [ 2.1153125e-08  1.7033312e-11 -8.9261237e-11]\n",
      " [ 5.2050630e-09  6.1453523e-11  1.1742382e-10]\n",
      " [-4.6975890e-09  3.8900657e-11  1.6942697e-13]\n",
      " [-4.5489817e-10  2.0656714e-11 -1.8877508e-12]\n",
      " [-1.2217279e-09  2.8144460e-13  1.2747237e-10]\n",
      " [-6.4216665e-10 -4.9043804e-11  4.4416137e-11]\n",
      " [-7.7084041e-11 -1.0455968e-11  1.9670019e-12]]\n"
     ]
    }
   ],
   "source": [
    "real_actual = np.array([np.array(row) for row in actual])\n",
    "real_predicted = np.array([np.array(row) for row in predicted])"
   ]
  },
  {
   "cell_type": "code",
   "execution_count": 267,
   "id": "12cf21f0-96c3-4c64-9b3c-b1fc1d065b9b",
   "metadata": {},
   "outputs": [
    {
     "ename": "ValueError",
     "evalue": "object too deep for desired array",
     "output_type": "error",
     "traceback": [
      "\u001b[0;31m---------------------------------------------------------------------------\u001b[0m",
      "\u001b[0;31mValueError\u001b[0m                                Traceback (most recent call last)",
      "\u001b[0;32m/var/folders/9k/5mfcgwhd61z19vw5lpk_0kw80000gn/T/ipykernel_30418/721473302.py\u001b[0m in \u001b[0;36m?\u001b[0;34m()\u001b[0m\n\u001b[0;32m----> 1\u001b[0;31m \u001b[0memd\u001b[0m \u001b[0;34m=\u001b[0m \u001b[0mwasserstein_distance\u001b[0m\u001b[0;34m(\u001b[0m\u001b[0mreal_actual\u001b[0m\u001b[0;34m,\u001b[0m \u001b[0mreal_predicted\u001b[0m\u001b[0;34m)\u001b[0m\u001b[0;34m\u001b[0m\u001b[0;34m\u001b[0m\u001b[0m\n\u001b[0m",
      "\u001b[0;32m~/myenv/lib/python3.12/site-packages/scipy/stats/_stats_py.py\u001b[0m in \u001b[0;36m?\u001b[0;34m(u_values, v_values, u_weights, v_weights)\u001b[0m\n\u001b[1;32m  10117\u001b[0m     \u001b[0;34m...\u001b[0m                      \u001b[0;34m[\u001b[0m\u001b[0;36m1.4\u001b[0m\u001b[0;34m,\u001b[0m \u001b[0;36m0.9\u001b[0m\u001b[0;34m,\u001b[0m \u001b[0;36m3.1\u001b[0m\u001b[0;34m,\u001b[0m \u001b[0;36m7.2\u001b[0m\u001b[0;34m]\u001b[0m\u001b[0;34m,\u001b[0m \u001b[0;34m[\u001b[0m\u001b[0;36m3.2\u001b[0m\u001b[0;34m,\u001b[0m \u001b[0;36m3.5\u001b[0m\u001b[0;34m]\u001b[0m\u001b[0;34m)\u001b[0m\u001b[0;34m\u001b[0m\u001b[0;34m\u001b[0m\u001b[0m\n\u001b[1;32m  10118\u001b[0m     \u001b[0;36m4.0781331438047861\u001b[0m\u001b[0;34m\u001b[0m\u001b[0;34m\u001b[0m\u001b[0m\n\u001b[1;32m  10119\u001b[0m \u001b[0;34m\u001b[0m\u001b[0m\n\u001b[1;32m  10120\u001b[0m     \"\"\"\n\u001b[0;32m> 10121\u001b[0;31m     \u001b[0;32mreturn\u001b[0m \u001b[0m_cdf_distance\u001b[0m\u001b[0;34m(\u001b[0m\u001b[0;36m1\u001b[0m\u001b[0;34m,\u001b[0m \u001b[0mu_values\u001b[0m\u001b[0;34m,\u001b[0m \u001b[0mv_values\u001b[0m\u001b[0;34m,\u001b[0m \u001b[0mu_weights\u001b[0m\u001b[0;34m,\u001b[0m \u001b[0mv_weights\u001b[0m\u001b[0;34m)\u001b[0m\u001b[0;34m\u001b[0m\u001b[0;34m\u001b[0m\u001b[0m\n\u001b[0m",
      "\u001b[0;32m~/myenv/lib/python3.12/site-packages/scipy/stats/_stats_py.py\u001b[0m in \u001b[0;36m?\u001b[0;34m(p, u_values, v_values, u_weights, v_weights)\u001b[0m\n\u001b[1;32m  10264\u001b[0m     \u001b[0mdeltas\u001b[0m \u001b[0;34m=\u001b[0m \u001b[0mnp\u001b[0m\u001b[0;34m.\u001b[0m\u001b[0mdiff\u001b[0m\u001b[0;34m(\u001b[0m\u001b[0mall_values\u001b[0m\u001b[0;34m)\u001b[0m\u001b[0;34m\u001b[0m\u001b[0;34m\u001b[0m\u001b[0m\n\u001b[1;32m  10265\u001b[0m \u001b[0;34m\u001b[0m\u001b[0m\n\u001b[1;32m  10266\u001b[0m     \u001b[0;31m# Get the respective positions of the values of u and v among the values of\u001b[0m\u001b[0;34m\u001b[0m\u001b[0;34m\u001b[0m\u001b[0m\n\u001b[1;32m  10267\u001b[0m     \u001b[0;31m# both distributions.\u001b[0m\u001b[0;34m\u001b[0m\u001b[0;34m\u001b[0m\u001b[0m\n\u001b[0;32m> 10268\u001b[0;31m     \u001b[0mu_cdf_indices\u001b[0m \u001b[0;34m=\u001b[0m \u001b[0mu_values\u001b[0m\u001b[0;34m[\u001b[0m\u001b[0mu_sorter\u001b[0m\u001b[0;34m]\u001b[0m\u001b[0;34m.\u001b[0m\u001b[0msearchsorted\u001b[0m\u001b[0;34m(\u001b[0m\u001b[0mall_values\u001b[0m\u001b[0;34m[\u001b[0m\u001b[0;34m:\u001b[0m\u001b[0;34m-\u001b[0m\u001b[0;36m1\u001b[0m\u001b[0;34m]\u001b[0m\u001b[0;34m,\u001b[0m \u001b[0;34m'right'\u001b[0m\u001b[0;34m)\u001b[0m\u001b[0;34m\u001b[0m\u001b[0;34m\u001b[0m\u001b[0m\n\u001b[0m\u001b[1;32m  10269\u001b[0m     \u001b[0mv_cdf_indices\u001b[0m \u001b[0;34m=\u001b[0m \u001b[0mv_values\u001b[0m\u001b[0;34m[\u001b[0m\u001b[0mv_sorter\u001b[0m\u001b[0;34m]\u001b[0m\u001b[0;34m.\u001b[0m\u001b[0msearchsorted\u001b[0m\u001b[0;34m(\u001b[0m\u001b[0mall_values\u001b[0m\u001b[0;34m[\u001b[0m\u001b[0;34m:\u001b[0m\u001b[0;34m-\u001b[0m\u001b[0;36m1\u001b[0m\u001b[0;34m]\u001b[0m\u001b[0;34m,\u001b[0m \u001b[0;34m'right'\u001b[0m\u001b[0;34m)\u001b[0m\u001b[0;34m\u001b[0m\u001b[0;34m\u001b[0m\u001b[0m\n\u001b[1;32m  10270\u001b[0m \u001b[0;34m\u001b[0m\u001b[0m\n\u001b[1;32m  10271\u001b[0m     \u001b[0;31m# Calculate the CDFs of u and v using their weights, if specified.\u001b[0m\u001b[0;34m\u001b[0m\u001b[0;34m\u001b[0m\u001b[0m\n",
      "\u001b[0;31mValueError\u001b[0m: object too deep for desired array"
     ]
    }
   ],
   "source": [
    "# emd = wasserstein_distance(real_actual, real_predicted)"
   ]
  },
  {
   "cell_type": "code",
   "execution_count": 272,
   "id": "d31e6004-9def-422f-bd7b-ec3c3cabc9b4",
   "metadata": {},
   "outputs": [
    {
     "name": "stdout",
     "output_type": "stream",
     "text": [
      "Average EMD value is 4, which is in a good range\n"
     ]
    }
   ],
   "source": [
    "values = []\n",
    "\n",
    "for event in predicted.shape[0]:\n",
    "    emdval, G = ef.emd.emd(predicted[event, :], actual[event, :], R=1, return_flow=True)\n",
    "    values.append(emdval)\n",
    "\n",
    "average = np.mean(values)\n",
    "\n",
    "if(average < 5): print(f'Average EMD value is {average}, which is in a good range')\n",
    "elif(average < 6): print(f'Average EMD value is {average}, which is in a an okay range')\n",
    "else: print(f'Average EMD value is {average}, bad accuracy')"
   ]
  }
 ],
 "metadata": {
  "kernelspec": {
   "display_name": "Python 3 (ipykernel)",
   "language": "python",
   "name": "python3"
  },
  "language_info": {
   "codemirror_mode": {
    "name": "ipython",
    "version": 3
   },
   "file_extension": ".py",
   "mimetype": "text/x-python",
   "name": "python",
   "nbconvert_exporter": "python",
   "pygments_lexer": "ipython3",
   "version": "3.12.5"
  }
 },
 "nbformat": 4,
 "nbformat_minor": 5
}
